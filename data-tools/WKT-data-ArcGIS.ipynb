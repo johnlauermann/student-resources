{
 "cells": [
  {
   "cell_type": "markdown",
   "metadata": {},
   "source": [
    "# Using WKT Location Data in ArcGIS\n",
    "[Well-Known Text (WKT)](https://libgeos.org/specifications/wkt/) is a format that stores geometry information as a string within a table. When stored in this way, each row in the table (such as a CSV file) will include an attribute that describes the geometry of a shape, stored as a string value. \n",
    "\n",
    "The notation starts by defining the type of geometric shape (e.g. POINT, POLYGON). It then includes longitude and latitude coordinates for each relevant point in the shape (e.g. if it's a polygon, every vertex along the polygon boundary will be listed). \n",
    "\n",
    "ArcGIS does not have a direct way to import WKT data. But there is a fromWKT function within the arcpy library. This script demonstrates how to use it"
   ]
  },
  {
   "cell_type": "code",
   "execution_count": null,
   "metadata": {},
   "outputs": [],
   "source": [
    "import arcpy\n",
    "import os\n",
    "import csv"
   ]
  },
  {
   "cell_type": "code",
   "execution_count": null,
   "metadata": {},
   "outputs": [],
   "source": [
    "# set up your workspace\n",
    "aprx = arcpy.mp.ArcGISProject(\"CURRENT\")\n",
    "default_folder = aprx.homeFolder\n",
    "default_gdb = aprx.defaultGeodatabase  \n",
    "arcpy.env.overwriteOutput = True\n",
    "print(default_folder)\n",
    "print(default_gdb)"
   ]
  },
  {
   "cell_type": "markdown",
   "metadata": {},
   "source": [
    "## Loading data\n",
    "\n",
    "For this illustration, I'll use a CSV of [neighborhood boundaries](https://data.cityofnewyork.us/resource/9nt8-h7nd.csv) from NYC Open Data. I'm going to simply download the CSV, name it NTA_boundaries.csv, and add it to the default folder identified above. But if you wanted to, you could pull this from the NYC Open Data API using sodapy. "
   ]
  },
  {
   "cell_type": "code",
   "execution_count": null,
   "metadata": {},
   "outputs": [],
   "source": [
    "# define the parameters (you'll need to update all of them for your data)\n",
    "input_file = os.path.join(default_folder, \"NTA_boundaries.csv\")\n",
    "output_name = \"NTA_boundaries\"\n",
    "geom_type = \"POLYGON\"  \n",
    "geom_prj = 4326  ## Assuming we're using WG 1984 as the projection"
   ]
  },
  {
   "cell_type": "code",
   "execution_count": null,
   "metadata": {},
   "outputs": [],
   "source": [
    "## create an empty layer\n",
    "output_layer = arcpy.management.CreateFeatureclass(out_path = default_gdb,\n",
    "                                                   out_name = output_name,\n",
    "                                                   geometry_type = geom_type,\n",
    "                                                   spatial_reference = geom_prj)\n",
    "\n",
    "## add a primary key field (whatever it's called in your data)\n",
    "arcpy.AddField_management(output_layer, \"NTA2020\", \"TEXT\")\n",
    "\n",
    "print(output_layer)"
   ]
  },
  {
   "cell_type": "markdown",
   "metadata": {},
   "source": [
    "## Reading the WKT records\n",
    "\n",
    "The next step is to identify the WKT and primary key fields, then draw the former to geomtry and insert the latter into the unique identifier row. After this is finished, you can join the original CSV to the new layer by that primary key. "
   ]
  },
  {
   "cell_type": "code",
   "execution_count": null,
   "metadata": {},
   "outputs": [],
   "source": [
    "# Reads WKT and primary key records, and insert to the empty layer\n",
    "with open(input_file, \"r\", newline=\"\") as csvfile:\n",
    "    csvreader = csv.DictReader(csvfile)\n",
    "\n",
    "    ## insert the polygon and primary key data\n",
    "    with arcpy.da.InsertCursor(output_layer, [\"SHAPE@\", \"NTA2020\"]) as icurs:\n",
    "        for row in csvreader:\n",
    "            wkt_geom = row[\"the_geom\"]  ## change this to your WKT column name\n",
    "            primary_key = row[\"NTA2020\"]  ## change this to your unique ID column name\n",
    "\n",
    "            ## Validate the WKT before processing\n",
    "            if not wkt_geom or \"POLYGON\" not in wkt_geom:\n",
    "                print(f\"SKIPPING invalid WKT: {wkt_geom[:50]}\")\n",
    "                continue\n",
    "\n",
    "            try:\n",
    "                geom_from_wkt = arcpy.FromWKT(wkt_geom, arcpy.SpatialReference(4326))\n",
    "\n",
    "                ## Adds the polygon and unique identifier\n",
    "                icurs.insertRow([geom_from_wkt, primary_key])\n",
    "\n",
    "            except (TypeError, RuntimeError) as e:\n",
    "                print(f\"SKIPPING due to conversion failure: {wkt_geom[:100]}... | {e}\")\n",
    "                continue\n",
    "\n",
    "print(\"Done.\")"
   ]
  }
 ],
 "metadata": {
  "kernelspec": {
   "display_name": "ArcGISPro",
   "language": "python",
   "name": "python3"
  },
  "language_info": {
   "file_extension": ".py",
   "mimetype": "text/x-python",
   "name": "python",
   "version": "3.11.10"
  }
 },
 "nbformat": 4,
 "nbformat_minor": 4
}
